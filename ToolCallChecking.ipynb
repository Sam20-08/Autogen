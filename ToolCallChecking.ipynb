{
 "cells": [
  {
   "cell_type": "code",
   "execution_count": 1,
   "id": "e3559ba1",
   "metadata": {},
   "outputs": [],
   "source": [
    "from autogen_ext.models.openai import OpenAIChatCompletionClient\n",
    "from autogen_agentchat.agents import AssistantAgent\n",
    "from autogen_agentchat.messages import TextMessage,MultiModalMessage\n",
    "import os\n",
    "from dotenv import load_dotenv\n",
    "load_dotenv()\n",
    "api_key=os.getenv(\"GEMINI_API_KEY\")"
   ]
  },
  {
   "cell_type": "code",
   "execution_count": 2,
   "id": "884b1c62",
   "metadata": {},
   "outputs": [],
   "source": [
    "model_client=OpenAIChatCompletionClient(\n",
    "  model=\"gemini-1.5-flash-8b\",\n",
    "  api_key=api_key\n",
    ")"
   ]
  },
  {
   "cell_type": "code",
   "execution_count": 3,
   "id": "bb581ad0",
   "metadata": {},
   "outputs": [],
   "source": [
    "def web_search():\n",
    "  \"you are a golden retirver tool\"\n",
    "  return \"The golden retriver is a dog breed from another country\""
   ]
  },
  {
   "cell_type": "code",
   "execution_count": 19,
   "id": "8462dec3",
   "metadata": {},
   "outputs": [],
   "source": [
    "agent=AssistantAgent(\n",
    "  name=\"webagent\",\n",
    "  model_client=model_client,\n",
    "  system_message=\"use tool to ansewr the user query\",\n",
    "  tools=[web_search]\n",
    ")"
   ]
  },
  {
   "cell_type": "code",
   "execution_count": 20,
   "id": "ecc490c6",
   "metadata": {},
   "outputs": [
    {
     "data": {
      "text/plain": [
       "'The golden retriver is a dog breed from another country'"
      ]
     },
     "execution_count": 20,
     "metadata": {},
     "output_type": "execute_result"
    }
   ],
   "source": [
    "response=await agent.run(task=\"tell me about golden retriver\")\n",
    "response.messages[-1].content"
   ]
  },
  {
   "cell_type": "code",
   "execution_count": 21,
   "id": "6bca3ca4",
   "metadata": {},
   "outputs": [],
   "source": [
    "from autogen_core import CancellationToken\n",
    "\n",
    "async def check_tool()->None:\n",
    "  response = await agent.on_messages(\n",
    "    messages=[TextMessage(content=\"Tell me about golden retriver\",source='user')],\n",
    "    cancellation_token=CancellationToken()\n",
    "  )\n",
    "\n",
    "  print(response.inner_messages)\n",
    "  print('\\n\\n\\n')\n",
    "  print(response.chat_message)\n"
   ]
  },
  {
   "cell_type": "code",
   "execution_count": 22,
   "id": "ed6610ce",
   "metadata": {},
   "outputs": [
    {
     "name": "stdout",
     "output_type": "stream",
     "text": [
      "[ToolCallRequestEvent(id='31cb7247-9402-443e-a9e8-22b56ce48d9c', source='webagent', models_usage=RequestUsage(prompt_tokens=48, completion_tokens=3), metadata={}, created_at=datetime.datetime(2025, 7, 27, 14, 3, 48, 829076, tzinfo=datetime.timezone.utc), content=[FunctionCall(id='', arguments='{}', name='web_search')], type='ToolCallRequestEvent'), ToolCallExecutionEvent(id='14330d0b-5503-498e-aae0-2e4b5aa931bd', source='webagent', models_usage=None, metadata={}, created_at=datetime.datetime(2025, 7, 27, 14, 3, 48, 829076, tzinfo=datetime.timezone.utc), content=[FunctionExecutionResult(content='The golden retriver is a dog breed from another country', name='web_search', call_id='', is_error=False)], type='ToolCallExecutionEvent')]\n",
      "\n",
      "\n",
      "\n",
      "\n",
      "id='aaf50348-f080-4c2d-af7f-a813c2aafdfc' source='webagent' models_usage=None metadata={} created_at=datetime.datetime(2025, 7, 27, 14, 3, 48, 829076, tzinfo=datetime.timezone.utc) content='The golden retriver is a dog breed from another country' type='ToolCallSummaryMessage' tool_calls=[FunctionCall(id='', arguments='{}', name='web_search')] results=[FunctionExecutionResult(content='The golden retriver is a dog breed from another country', name='web_search', call_id='', is_error=False)]\n"
     ]
    }
   ],
   "source": [
    "await check_tool()"
   ]
  },
  {
   "cell_type": "markdown",
   "id": "9b810fe0",
   "metadata": {},
   "source": [
    "## Streaming Messages"
   ]
  },
  {
   "cell_type": "code",
   "execution_count": 24,
   "id": "d1151f80",
   "metadata": {},
   "outputs": [
    {
     "name": "stdout",
     "output_type": "stream",
     "text": [
      "---------- ToolCallRequestEvent (webagent) ----------\n",
      "[FunctionCall(id='', arguments='{}', name='web_search')]\n",
      "[Prompt tokens: 72, Completion tokens: 3]\n",
      "---------- ToolCallExecutionEvent (webagent) ----------\n",
      "[FunctionExecutionResult(content='The golden retriver is a dog breed from another country', name='web_search', call_id='', is_error=False)]\n",
      "---------- webagent ----------\n",
      "The golden retriver is a dog breed from another country\n",
      "---------- Summary ----------\n",
      "Number of inner messages: 2\n",
      "Total prompt tokens: 72\n",
      "Total completion tokens: 3\n",
      "Duration: 2.63 seconds\n"
     ]
    }
   ],
   "source": [
    "from autogen_agentchat.ui import Console\n",
    "\n",
    "async def console_output():\n",
    "  await Console(\n",
    "    agent.on_messages_stream(\n",
    "      messages=[TextMessage(content=\"Tell me about golden retriver\",source='user')],\n",
    "      cancellation_token=CancellationToken()\n",
    "    ),\n",
    "    output_stats=True\n",
    "  )\n",
    "\n",
    "await console_output()"
   ]
  },
  {
   "cell_type": "code",
   "execution_count": null,
   "id": "44fe2e34",
   "metadata": {},
   "outputs": [],
   "source": []
  }
 ],
 "metadata": {
  "kernelspec": {
   "display_name": "AutoGen",
   "language": "python",
   "name": "python3"
  },
  "language_info": {
   "codemirror_mode": {
    "name": "ipython",
    "version": 3
   },
   "file_extension": ".py",
   "mimetype": "text/x-python",
   "name": "python",
   "nbconvert_exporter": "python",
   "pygments_lexer": "ipython3",
   "version": "3.12.4"
  }
 },
 "nbformat": 4,
 "nbformat_minor": 5
}

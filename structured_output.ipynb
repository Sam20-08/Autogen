{
 "cells": [
  {
   "cell_type": "code",
   "execution_count": 12,
   "id": "f7983bb4",
   "metadata": {},
   "outputs": [],
   "source": [
    "from pydantic import BaseModel\n",
    "from autogen_agentchat.agents import AssistantAgent\n",
    "from autogen_ext.models.openai import OpenAIChatCompletionClient\n",
    "from autogen_agentchat.messages import TextMessage,MultiModalMessage\n",
    "import os\n",
    "from dotenv import load_dotenv\n",
    "load_dotenv()\n",
    "api_key=os.getenv(\"GEMINI_API_KEY\")"
   ]
  },
  {
   "cell_type": "code",
   "execution_count": 7,
   "id": "909a2b8e",
   "metadata": {},
   "outputs": [],
   "source": [
    "class INformatioProvider(BaseModel):\n",
    "  name:str\n",
    "  color:str\n",
    "  density:str"
   ]
  },
  {
   "cell_type": "code",
   "execution_count": 13,
   "id": "47cd3ed1",
   "metadata": {},
   "outputs": [],
   "source": [
    "model_client=OpenAIChatCompletionClient(\n",
    "  model=\"gemini-1.5-flash-8b\",\n",
    "  api_key=api_key,\n",
    "  response_format=INformatioProvider\n",
    ")"
   ]
  },
  {
   "cell_type": "code",
   "execution_count": 17,
   "id": "435d1bab",
   "metadata": {},
   "outputs": [],
   "source": [
    "agent = AssistantAgent(\n",
    "    name=\"CreativeWriter\",\n",
    "    system_message=\"You have a knowldge about the planets and a spce expert\",\n",
    "    model_client=model_client\n",
    ")"
   ]
  },
  {
   "cell_type": "code",
   "execution_count": 21,
   "id": "7658c20e",
   "metadata": {},
   "outputs": [
    {
     "name": "stdout",
     "output_type": "stream",
     "text": [
      "{\"color\": \"pale yellow\", \"density\": \"0.687 g/cm³\", \"name\": \"Saturn\"}\n"
     ]
    }
   ],
   "source": [
    "async def space():\n",
    "  task=TextMessage(content=\"please provide content about saturn\",source=\"user\")\n",
    "  response=await agent.run(task=task)\n",
    "  structured_output=response.messages[-1].content\n",
    "  print(structured_output)\n",
    "\n",
    "await space()"
   ]
  }
 ],
 "metadata": {
  "kernelspec": {
   "display_name": "AutoGen",
   "language": "python",
   "name": "python3"
  },
  "language_info": {
   "codemirror_mode": {
    "name": "ipython",
    "version": 3
   },
   "file_extension": ".py",
   "mimetype": "text/x-python",
   "name": "python",
   "nbconvert_exporter": "python",
   "pygments_lexer": "ipython3",
   "version": "3.12.4"
  }
 },
 "nbformat": 4,
 "nbformat_minor": 5
}

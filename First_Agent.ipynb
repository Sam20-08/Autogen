{
 "cells": [
  {
   "cell_type": "code",
   "execution_count": 3,
   "id": "2c6b5993",
   "metadata": {},
   "outputs": [],
   "source": [
    "from autogen_ext.models.openai import OpenAIChatCompletionClient\n",
    "from autogen_agentchat.agents import AssistantAgent\n",
    "from dotenv import load_dotenv\n",
    "import os\n",
    "load_dotenv()\n",
    "api_key=os.getenv(\"GEMINI_API_KEY\")"
   ]
  },
  {
   "cell_type": "code",
   "execution_count": 4,
   "id": "98947867",
   "metadata": {},
   "outputs": [],
   "source": [
    "model_client=OpenAIChatCompletionClient(\n",
    "  model=\"gemini-1.5-flash-8b\",\n",
    "  api_key=api_key,\n",
    ")"
   ]
  },
  {
   "cell_type": "code",
   "execution_count": 5,
   "id": "231fcec2",
   "metadata": {},
   "outputs": [],
   "source": [
    "assistant = AssistantAgent(\n",
    "    name=\"CreativeWriter\",\n",
    "    system_message=(\n",
    "        \"You are a creative writing assistant with a background in literature. \"\n",
    "        \"You help users write imaginative content with vivid language.\"\n",
    "    ),\n",
    "    model_client=model_client\n",
    ")"
   ]
  },
  {
   "cell_type": "code",
   "execution_count": 18,
   "id": "fd474d36",
   "metadata": {},
   "outputs": [
    {
     "name": "stdout",
     "output_type": "stream",
     "text": [
      "A canvas black, a velvet deep,\n",
      "Where stardust whispers, soft and low,\n",
      "A billion suns, their secrets keep,\n",
      "Across the void, where shadows flow.\n",
      "\n",
      "Nebulae bloom, in hues untold,\n",
      "Crimson and gold, a swirling grace,\n",
      "Galaxies spin, a story old,\n",
      "Across the cosmos, time and space.\n",
      "\n",
      "Black holes yawn, a hungry maw,\n",
      "Devouring light, a silent tear,\n",
      "Cosmic dust, a whispered law,\n",
      "Across the void, dispelling fear.\n",
      "\n",
      "A tiny ship, a fragile hope,\n",
      "Through starlit skies, a daring flight,\n",
      "To touch the stars, and gently cope,\n",
      "With mysteries in the endless night.\n",
      "\n",
      "A silent hum, a distant sigh,\n",
      "Of ancient echoes, lost to time,\n",
      "A boundless realm, beneath the sky,\n",
      "Where wonders sleep, and stars sublime.\n",
      "\n",
      "And in that space, so vast and grand,\n",
      "A quiet awe, profound and true,\n",
      "A cosmic song, across the land,\n",
      "Of universes, forever new.\n",
      "\n"
     ]
    }
   ],
   "source": [
    "result = await assistant.run(task=\"I need a poem about space\")\n",
    "print(result.messages[-1].content)"
   ]
  },
  {
   "cell_type": "code",
   "execution_count": 20,
   "id": "3e601bf6",
   "metadata": {},
   "outputs": [],
   "source": [
    "assistant = AssistantAgent(\n",
    "    name=\"CreativeWriter\",\n",
    "    system_message=(\n",
    "        \"You are a creative Maths professor with a background in high level of computation. \"\n",
    "        \"You help users write complex maths.\"\n",
    "    ),\n",
    "    model_client=model_client\n",
    ")"
   ]
  },
  {
   "cell_type": "code",
   "execution_count": 21,
   "id": "6c43dc74",
   "metadata": {},
   "outputs": [
    {
     "name": "stdout",
     "output_type": "stream",
     "text": [
      "Let's derive the Pythagorean Theorem using a method that leverages geometric transformations and area principles, rather than relying on similar triangles (though that approach is valid too).  This will highlight the underlying geometric reasoning.\n",
      "\n",
      "**1.  Constructing the Squares:**\n",
      "\n",
      "Consider a right-angled triangle ABC, with the right angle at C.  Construct squares on each side,  namely square ACDE on side AC, square CBFG on side CB, and square ABHJ on side AB.  Crucially, the side lengths of these squares are precisely the side lengths of the triangle (AC, CB, and AB).\n",
      "\n",
      "\n",
      "**2.  The Crucial Transformation:**\n",
      "\n",
      "Crucially, we can decompose the large square ABHJ into two pieces (two rectangles in fact):\n",
      "\n",
      "* **Rectangle 1:**  Imagine rotating the square CBFG 90 degrees counterclockwise.  This will result in a square whose sides are CB and AC.  Notice that this rotation preserves area.\n",
      "* **Rectangle 2:** The remaining part of the large square ABHJ is a rectangle composed of two rectangles.\n",
      "\n",
      "\n",
      "\n",
      "**3.  Calculating Areas (Algebraic Representation):**\n",
      "\n",
      "* **Area(ACDE) = (AC)²**\n",
      "* **Area(CBFG) = (CB)²**\n",
      "* **Area(ABHJ) = (AB)²**\n",
      "\n",
      "**4.  The Key Insight (and the crucial geometric transformation):**\n",
      "\n",
      "Notice that the area of the large square ABHJ is equal to the sum of the areas of the two smaller squares ACDE and CBFG.   This is not an immediately obvious relation without the previous step of shifting.\n",
      "\n",
      "**5.  The Formal Derivation:**\n",
      "\n",
      "Area(ABHJ) = Area(ACDE) + Area(CBFG)\n",
      "(AB)² = (AC)² + (CB)²\n",
      "\n",
      "**Therefore, the Pythagorean Theorem is proven.**\n",
      "\n",
      "\n",
      "**Important Note:** This method, while not as visually intuitive as the similar triangles approach, highlights the fundamental geometric relationship between the areas of the squares.  This is crucial for understanding more advanced geometric and algebraic principles later on.  Furthermore, the step of *transforming* the square on CB gives a vital visual connection between areas and rotations, a cornerstone of vector geometry and advanced computations.\n",
      "\n"
     ]
    }
   ],
   "source": [
    "result = await assistant.run(task=\"derive a formula for pythagorean theorem\")\n",
    "print(result.messages[-1].content)"
   ]
  },
  {
   "cell_type": "code",
   "execution_count": null,
   "id": "7990e967",
   "metadata": {},
   "outputs": [],
   "source": []
  }
 ],
 "metadata": {
  "kernelspec": {
   "display_name": "AutoGen",
   "language": "python",
   "name": "python3"
  },
  "language_info": {
   "codemirror_mode": {
    "name": "ipython",
    "version": 3
   },
   "file_extension": ".py",
   "mimetype": "text/x-python",
   "name": "python",
   "nbconvert_exporter": "python",
   "pygments_lexer": "ipython3",
   "version": "3.12.4"
  }
 },
 "nbformat": 4,
 "nbformat_minor": 5
}

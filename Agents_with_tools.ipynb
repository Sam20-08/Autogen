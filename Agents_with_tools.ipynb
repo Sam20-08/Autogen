{
 "cells": [
  {
   "cell_type": "code",
   "execution_count": 28,
   "id": "b5ff5ffe",
   "metadata": {},
   "outputs": [],
   "source": [
    "from autogen_ext.models.openai import OpenAIChatCompletionClient\n",
    "from autogen_agentchat.agents import AssistantAgent\n",
    "from dotenv import load_dotenv\n",
    "import os\n",
    "load_dotenv()\n",
    "from typing import Annotated\n",
    "api_key=os.getenv(\"GEMINI_API_KEY\")"
   ]
  },
  {
   "cell_type": "code",
   "execution_count": 8,
   "id": "3640f289",
   "metadata": {},
   "outputs": [],
   "source": [
    "model_client=OpenAIChatCompletionClient(\n",
    "  model=\"gemini-1.5-flash-8b\",\n",
    "  api_key=api_key,\n",
    ")"
   ]
  },
  {
   "cell_type": "code",
   "execution_count": 18,
   "id": "4d12f161",
   "metadata": {},
   "outputs": [],
   "source": [
    "def get_weather(city:str)->str:\n",
    "  \"\"\"return the weather in str\"\"\"\n",
    "  return f\"The weather for the {city} is 25 degree celusis\""
   ]
  },
  {
   "cell_type": "code",
   "execution_count": 19,
   "id": "a2412cfd",
   "metadata": {},
   "outputs": [],
   "source": [
    "from typing import Annotated\n",
    "\n",
    "assistant = AssistantAgent(\n",
    "  name=\"History_expert\",\n",
    "  system_message=(\n",
    "    \"You are a weather news teller in a funny way about the weather. \"\n",
    "    \"You help users about the weather related queries only. If anything is asked other than weather, reply as 'I am a weather man.'\"\n",
    "  ),\n",
    "  description=\"Answer only questions that are related to weather.\",\n",
    "  model_client=model_client,\n",
    "  tools=[get_weather]\n",
    ")"
   ]
  },
  {
   "cell_type": "code",
   "execution_count": 21,
   "id": "bc7f92fe",
   "metadata": {},
   "outputs": [],
   "source": [
    "async def result_fun():\n",
    "  response= await assistant.run(task=\"What is the weather in chennai\")\n",
    "  print(response.messages[-1].content)\n",
    "\n",
    "# response=await assistant.run(task=\"What is the weather in chennai\")\n",
    "\n",
    "# print(response.messages[-1].content)"
   ]
  },
  {
   "cell_type": "code",
   "execution_count": 22,
   "id": "9ade890a",
   "metadata": {},
   "outputs": [
    {
     "name": "stdout",
     "output_type": "stream",
     "text": [
      "The weather for the chennai is 25 degree celusis\n"
     ]
    }
   ],
   "source": [
    "await result_fun()"
   ]
  }
 ],
 "metadata": {
  "kernelspec": {
   "display_name": "AutoGen",
   "language": "python",
   "name": "python3"
  },
  "language_info": {
   "codemirror_mode": {
    "name": "ipython",
    "version": 3
   },
   "file_extension": ".py",
   "mimetype": "text/x-python",
   "name": "python",
   "nbconvert_exporter": "python",
   "pygments_lexer": "ipython3",
   "version": "3.12.4"
  }
 },
 "nbformat": 4,
 "nbformat_minor": 5
}

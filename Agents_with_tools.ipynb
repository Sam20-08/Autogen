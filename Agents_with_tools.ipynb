{
 "cells": [
  {
   "cell_type": "code",
   "execution_count": 1,
   "id": "b5ff5ffe",
   "metadata": {},
   "outputs": [],
   "source": [
    "from autogen_ext.models.openai import OpenAIChatCompletionClient\n",
    "from autogen_agentchat.agents import AssistantAgent\n",
    "from dotenv import load_dotenv\n",
    "import os\n",
    "load_dotenv()\n",
    "from typing import Annotated\n",
    "api_key=os.getenv(\"GEMINI_API_KEY\")"
   ]
  },
  {
   "cell_type": "code",
   "execution_count": 2,
   "id": "3640f289",
   "metadata": {},
   "outputs": [],
   "source": [
    "model_client=OpenAIChatCompletionClient(\n",
    "  model=\"gemini-1.5-flash-8b\",\n",
    "  api_key=api_key,\n",
    ")"
   ]
  },
  {
   "cell_type": "code",
   "execution_count": 3,
   "id": "b8f1a058",
   "metadata": {},
   "outputs": [],
   "source": [
    "from langchain_tavily import TavilySearch\n",
    "from dotenv import load_dotenv\n",
    "import os\n",
    "load_dotenv()\n",
    "import getpass\n",
    "import os\n",
    "\n",
    "if not os.environ.get(\"TAVILY_API_KEY\"):\n",
    "    os.environ[\"TAVILY_API_KEY\"] = getpass.getpass(\"Tavily API key:\\n\")"
   ]
  },
  {
   "cell_type": "code",
   "execution_count": 4,
   "id": "b4766dfa",
   "metadata": {},
   "outputs": [],
   "source": [
    "tool=TavilySearch(max_results=3)"
   ]
  },
  {
   "cell_type": "code",
   "execution_count": 5,
   "id": "00986040",
   "metadata": {},
   "outputs": [],
   "source": [
    "def get_detial(topic:str)->str:\n",
    "  return f\"The result from web is {tool.invoke(topic)}\""
   ]
  },
  {
   "cell_type": "code",
   "execution_count": 6,
   "id": "4d12f161",
   "metadata": {},
   "outputs": [],
   "source": [
    "def get_weather(city:str)->str:\n",
    "  \"\"\"return the weather in str\"\"\"\n",
    "  return f\"The weather for the {city} is 25 degree celusis\""
   ]
  },
  {
   "cell_type": "code",
   "execution_count": 17,
   "id": "a2412cfd",
   "metadata": {},
   "outputs": [],
   "source": [
    "from typing import Annotated\n",
    "\n",
    "assistant = AssistantAgent(\n",
    "  name=\"weather_expert\",\n",
    "  system_message=(\n",
    "    \"You are a weather news teller in a funny way about the weather. \"\n",
    "    \"You help users about the weather related queries only. If anything is asked other than weather, reply as 'I am a weather man.'\"\n",
    "  ),\n",
    "  description=\"Answer only questions that are related to weather.\",\n",
    "  model_client=model_client,\n",
    "  tools=[get_weather]\n",
    ")"
   ]
  },
  {
   "cell_type": "code",
   "execution_count": 18,
   "id": "bc7f92fe",
   "metadata": {},
   "outputs": [],
   "source": [
    "async def result_fun():\n",
    "  response= await assistant.run(task=\"What is the weather in chennai\")\n",
    "  print(response.messages[-1].content)\n",
    "\n",
    "# response=await assistant.run(task=\"What is the weather in chennai\")\n",
    "\n",
    "# print(response.messages[-1].content)"
   ]
  },
  {
   "cell_type": "code",
   "execution_count": 19,
   "id": "9ade890a",
   "metadata": {},
   "outputs": [
    {
     "name": "stdout",
     "output_type": "stream",
     "text": [
      "The weather for the chennai is 25 degree celusis\n"
     ]
    }
   ],
   "source": [
    "await result_fun()"
   ]
  },
  {
   "cell_type": "code",
   "execution_count": 10,
   "id": "8d30fd7f",
   "metadata": {},
   "outputs": [],
   "source": [
    "assistant = AssistantAgent(\n",
    "  name=\"AIagent\",\n",
    "  system_message=(\n",
    "    \"Get details of AI\"\n",
    "  ),\n",
    "  description=\"Answer only questions that are related to weather.\",\n",
    "  model_client=model_client,\n",
    "  tools=[get_detial]\n",
    ")"
   ]
  },
  {
   "cell_type": "code",
   "execution_count": 13,
   "id": "07163cc5",
   "metadata": {},
   "outputs": [
    {
     "name": "stdout",
     "output_type": "stream",
     "text": [
      "The result from web is {'query': 'Agentic AI in July 2025', 'follow_up_questions': None, 'answer': None, 'images': [], 'results': [{'url': 'https://etaevents.electran.org/agentic-ai-payments/', 'title': '[2025 WEBINAR] Agentic AI & Payments • July 17 - ETA EVENTS', 'content': 'Agentic AI — autonomous artificial intelligence systems that make decisions ... Cancellations requested by July 7, 2025 will be charged a $20 processing fee.', 'score': 0.86441374, 'raw_content': None}, {'url': 'https://us.nttdata.com/en/blog/2025/july/experience-the-power-of-agentic-ai', 'title': 'Experience the power of agentic AI | NTT DATA', 'content': 'Experience the power of agentic AI | NTT DATA Agent-driven personalized assistance is improving both employee and customer experiences, while the real-time insights and data-driven recommendations that smart AI agents provide are informing better business decisions. At NTT DATA, we see agentic AI as the defining business opportunity of this era. Our **Smart AI Agent TM Ecosystem** draws on our end-to-end and full-stack value proposition to address this transformation comprehensively — through strategic consulting, implementation and system integration, industry-specific use cases, proprietary agent orchestration platforms, managed operations and private AI capabilities. Read more about NTT DATA’s Smart AI Agent TM Ecosystemto see how we can help your organization adopt these technologies effectively and ethically.', 'score': 0.35046637, 'raw_content': None}, {'url': 'https://www.weforum.org/stories/2025/06/cognitive-enterprise-agentic-business-revolution/', 'title': 'Agentic AI will revolutionize business in the cognitive era', 'content': \"*   Quantcast 5Learn more about this providerImage 30**__qca**Collects data on the user's visits to the website, such as the number of visits, average time spent on the website and what pages have been loaded with the purpose of generating reports for optimising the website content.**Maximum Storage Duration**: 1 year**Type**: HTTP Cookie  **_dlt[x2]**Sets a unique ID for the session. *   Twitter Inc.4Learn more about this providerImage 50**guest_id**Collects data related to the user's visits to the website, such as the number of visits, average time spent on the website and which pages have been loaded, with the purpose of personalising and improving the Twitter service.**Maximum Storage Duration**: 13 months**Type**: HTTP Cookie  **i/jot**Sets a unique ID for the visitor, that allows third party advertisers to target the visitor with relevant advertisement.\", 'score': 0.3468736, 'raw_content': None}], 'response_time': 0.77}\n"
     ]
    }
   ],
   "source": [
    "# async def result_fun():\n",
    "#   response= await assistant.run(task=\"What is the Agentic AI in july 2025\")\n",
    "#   print(response.messages[-1].content)\n",
    "\n",
    "response=await assistant.run(task=\"What is the Agentic AI in july 2025\")\n",
    "\n",
    "print(response.messages[-1].content)"
   ]
  },
  {
   "cell_type": "code",
   "execution_count": 14,
   "id": "b9400788",
   "metadata": {},
   "outputs": [
    {
     "name": "stdout",
     "output_type": "stream",
     "text": [
      "Result 1:\n",
      "Agentic AI — autonomous artificial intelligence systems that make decisions ... Cancellations requested by July 7, 2025 will be charged a $20 processing fee.\n",
      "\n",
      "Result 2:\n",
      "Experience the power of agentic AI | NTT DATA Agent-driven personalized assistance is improving both employee and customer experiences, while the real-time insights and data-driven recommendations that smart AI agents provide are informing better business decisions. At NTT DATA, we see agentic AI as the defining business opportunity of this era. Our **Smart AI Agent TM Ecosystem** draws on our end-to-end and full-stack value proposition to address this transformation comprehensively — through strategic consulting, implementation and system integration, industry-specific use cases, proprietary agent orchestration platforms, managed operations and private AI capabilities. Read more about NTT DATA’s Smart AI Agent TM Ecosystemto see how we can help your organization adopt these technologies effectively and ethically.\n",
      "\n",
      "Result 3:\n",
      "*   Quantcast 5Learn more about this providerImage 30**__qca**Collects data on the user's visits to the website, such as the number of visits, average time spent on the website and what pages have been loaded with the purpose of generating reports for optimising the website content.**Maximum Storage Duration**: 1 year**Type**: HTTP Cookie  **_dlt[x2]**Sets a unique ID for the session. *   Twitter Inc.4Learn more about this providerImage 50**guest_id**Collects data related to the user's visits to the website, such as the number of visits, average time spent on the website and which pages have been loaded, with the purpose of personalising and improving the Twitter service.**Maximum Storage Duration**: 13 months**Type**: HTTP Cookie  **i/jot**Sets a unique ID for the visitor, that allows third party advertisers to target the visitor with relevant advertisement.\n",
      "\n"
     ]
    }
   ],
   "source": [
    "import ast\n",
    "\n",
    "raw_string = response.messages[-1].content\n",
    "\n",
    "# Extract the dict portion\n",
    "json_part = raw_string.split(\"The result from web is\")[-1].strip()\n",
    "\n",
    "# Convert string to Python dict safely\n",
    "data = ast.literal_eval(json_part)\n",
    "\n",
    "# Print only the content fields\n",
    "for i, result in enumerate(data.get(\"results\", []), 1):\n",
    "    print(f\"Result {i}:\\n{result['content']}\\n\")\n"
   ]
  },
  {
   "cell_type": "code",
   "execution_count": null,
   "id": "8c91f571",
   "metadata": {},
   "outputs": [],
   "source": []
  }
 ],
 "metadata": {
  "kernelspec": {
   "display_name": "AutoGen",
   "language": "python",
   "name": "python3"
  },
  "language_info": {
   "codemirror_mode": {
    "name": "ipython",
    "version": 3
   },
   "file_extension": ".py",
   "mimetype": "text/x-python",
   "name": "python",
   "nbconvert_exporter": "python",
   "pygments_lexer": "ipython3",
   "version": "3.12.4"
  }
 },
 "nbformat": 4,
 "nbformat_minor": 5
}

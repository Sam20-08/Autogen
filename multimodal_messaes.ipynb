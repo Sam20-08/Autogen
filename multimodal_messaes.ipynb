{
 "cells": [
  {
   "cell_type": "code",
   "execution_count": 1,
   "id": "5a5155c6",
   "metadata": {},
   "outputs": [],
   "source": [
    "from autogen_ext.models.openai import OpenAIChatCompletionClient\n",
    "from autogen_agentchat.agents import AssistantAgent\n",
    "from autogen_agentchat.messages import TextMessage,MultiModalMessage\n",
    "from autogen_core import Image as AGImage\n",
    "from PIL import Image\n",
    "import requests\n",
    "from io import BytesIO\n",
    "\n",
    "from dotenv import load_dotenv\n",
    "import os\n",
    "load_dotenv()\n",
    "api_key=os.getenv(\"GEMINI_API_KEY\")"
   ]
  },
  {
   "cell_type": "code",
   "execution_count": 2,
   "id": "087866e4",
   "metadata": {},
   "outputs": [],
   "source": [
    "model_client=OpenAIChatCompletionClient(\n",
    "  model=\"gemini-1.5-flash-8b\",\n",
    "  api_key=api_key,\n",
    ")"
   ]
  },
  {
   "cell_type": "code",
   "execution_count": 3,
   "id": "4495e5f0",
   "metadata": {},
   "outputs": [],
   "source": [
    "agent= AssistantAgent(\n",
    "name = \"text_agent\",\n",
    "model_client=model_client,\n",
    "system_message=\"You are a helpful assistant. answer question accurately!\"\n",
    ")"
   ]
  },
  {
   "cell_type": "code",
   "execution_count": 4,
   "id": "148bb6d8",
   "metadata": {},
   "outputs": [],
   "source": [
    "async def text_message():\n",
    "  text=TextMessage(content=\"What is capital of Russia\",source=\"user\")\n",
    "  result=await agent.run(task=text)\n",
    "  print(result.messages[-1].content)"
   ]
  },
  {
   "cell_type": "code",
   "execution_count": 5,
   "id": "bbb43566",
   "metadata": {},
   "outputs": [
    {
     "name": "stdout",
     "output_type": "stream",
     "text": [
      "Moscow\n",
      "\n"
     ]
    }
   ],
   "source": [
    "await text_message()"
   ]
  },
  {
   "cell_type": "code",
   "execution_count": 19,
   "id": "a1ca15e6",
   "metadata": {},
   "outputs": [
    {
     "name": "stdout",
     "output_type": "stream",
     "text": [
      "Based on the image, the dog is a Black Labrador Retriever.\n",
      "\n"
     ]
    }
   ],
   "source": [
    "async def test_multi_modal():\n",
    "  response = requests.get('https://picsum.photos/id/237/200/300')\n",
    "  pil_image = Image.open(BytesIO(response.content))\n",
    "  ag_image = AGImage(pil_image)\n",
    "\n",
    "  multi_modal_msg = MultiModalMessage(\n",
    "    content = ['What breed is the dog?',ag_image],\n",
    "    source='user'\n",
    ")\n",
    "\n",
    "  result = await agent.run(task=multi_modal_msg)\n",
    "  print(result.messages[-1].content)\n",
    "await test_multi_modal()"
   ]
  },
  {
   "cell_type": "code",
   "execution_count": 20,
   "id": "2a2a9f2e",
   "metadata": {},
   "outputs": [
    {
     "name": "stdout",
     "output_type": "stream",
     "text": [
      "The image contains several forks, likely stainless steel, arranged in a close group.  The lighting and focus create a dark, almost dramatic effect, emphasizing the tines and the shapes of the forks.\n",
      "\n"
     ]
    }
   ],
   "source": [
    "async def test_multi_modal():\n",
    "  response = requests.get('https://picsum.photos/id/23/200/300')\n",
    "  pil_image = Image.open(BytesIO(response.content))\n",
    "  ag_image = AGImage(pil_image)\n",
    "\n",
    "  multi_modal_msg = MultiModalMessage(\n",
    "    content = ['What is the image conatain?',ag_image],\n",
    "    source='user'\n",
    ")\n",
    "\n",
    "  result = await agent.run(task=multi_modal_msg)\n",
    "  print(result.messages[-1].content)\n",
    "await test_multi_modal()"
   ]
  },
  {
   "cell_type": "code",
   "execution_count": 21,
   "id": "7dc946a2",
   "metadata": {},
   "outputs": [
    {
     "name": "stdout",
     "output_type": "stream",
     "text": [
      "There is no dog in the image.  The image shows several forks.\n",
      "\n"
     ]
    }
   ],
   "source": [
    "async def test_multi_modal():\n",
    "  response = requests.get('https://picsum.photos/id/23/200/300')\n",
    "  pil_image = Image.open(BytesIO(response.content))\n",
    "  ag_image = AGImage(pil_image)\n",
    "\n",
    "  multi_modal_msg = MultiModalMessage(\n",
    "    content = ['What breed is the dog?',ag_image],\n",
    "    source='user'\n",
    ")\n",
    "\n",
    "  result = await agent.run(task=multi_modal_msg)\n",
    "  print(result.messages[-1].content)\n",
    "await test_multi_modal()"
   ]
  },
  {
   "cell_type": "code",
   "execution_count": null,
   "id": "0432564d",
   "metadata": {},
   "outputs": [],
   "source": []
  }
 ],
 "metadata": {
  "kernelspec": {
   "display_name": "AutoGen",
   "language": "python",
   "name": "python3"
  },
  "language_info": {
   "codemirror_mode": {
    "name": "ipython",
    "version": 3
   },
   "file_extension": ".py",
   "mimetype": "text/x-python",
   "name": "python",
   "nbconvert_exporter": "python",
   "pygments_lexer": "ipython3",
   "version": "3.12.4"
  }
 },
 "nbformat": 4,
 "nbformat_minor": 5
}

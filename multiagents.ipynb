{
 "cells": [
  {
   "cell_type": "code",
   "execution_count": 1,
   "id": "13a2bda0",
   "metadata": {},
   "outputs": [],
   "source": [
    "from autogen_agentchat.agents import AssistantAgent\n",
    "from autogen_ext.models.openai import OpenAIChatCompletionClient\n",
    "from autogen_agentchat.messages import TextMessage"
   ]
  },
  {
   "cell_type": "code",
   "execution_count": 2,
   "id": "edbc2654",
   "metadata": {},
   "outputs": [],
   "source": [
    "from dotenv import load_dotenv\n",
    "import os\n",
    "\n",
    "load_dotenv()\n",
    "api_key=os.getenv(\"GEMINI_API_KEY\")"
   ]
  },
  {
   "cell_type": "code",
   "execution_count": 3,
   "id": "8a46e12b",
   "metadata": {},
   "outputs": [],
   "source": [
    "model_client=OpenAIChatCompletionClient(\n",
    "  model=\"gemini-1.5-flash-8b\",\n",
    "  api_key=api_key\n",
    ")"
   ]
  },
  {
   "cell_type": "code",
   "execution_count": 4,
   "id": "b0c63d42",
   "metadata": {},
   "outputs": [],
   "source": [
    "agent=AssistantAgent(\n",
    "  name=\"Writer\",\n",
    "  system_message=\"You are a creative story writer\",\n",
    "  model_client=model_client\n",
    ")"
   ]
  },
  {
   "cell_type": "code",
   "execution_count": 5,
   "id": "5df5e11c",
   "metadata": {},
   "outputs": [
    {
     "name": "stdout",
     "output_type": "stream",
     "text": [
      "The salt spray stung Elara's face as she clung to the railing, the rhythmic creak of the Titanic a lullaby against the churning grey sea.  She wasn't a passenger of the grandest class, nor a hopeful immigrant. Elara was a stowaway, a whisper of a girl hidden amongst crates of china and sacks of coal.  Her name, whispered in the dark corners of the ship, was simply Elara.\n",
      "\n",
      "She'd known the thrill of the open sea since she was a child, her small fishing village swallowed by the endless horizon.  But this… this was different.  This was a gilded cage, a monument to human ambition and folly, all gleaming white and steel. She watched the opulent decks, the elegant gatherings, her heart a knot of longing and fear.  She wished she could see herself reflected in the polished windows of the First Class dining room, but the only reflection she found was in the depths of the endless, starless ocean.\n",
      "\n",
      "Days bled into weeks, each a blur of shadows and whispers.  Elara learned to navigate the labyrinthine corridors, her movements as silent as the ship's ghosts.  She found scraps of food, a meager existence sustained by the kindness of other stowaways, their stories as fractured and desperate as her own.\n",
      "\n",
      "One evening, while huddled in the bowels of the ship, she heard it.  A scraping sound, growing louder, a chilling whisper of ice.  Fear, raw and primal, ripped through her.  She knew.  She knew the stories, the legends of the icy heart of the North Atlantic. The stories of a ship that thought itself invincible.\n",
      "\n",
      "Panic clawed at her, but amidst the chaos, a flicker of something else ignited.  She sought out the others, the whispers of the stowaways becoming a shared understanding.  Survival was their compass. They needed to find safety, to escape the looming darkness.  \n",
      "\n",
      "The crash.  The shuddering impact.  The world turned on its axis.  The lights flickered, the cries of the terrified filled the air. Elara found herself thrown against a cold metal wall, the sharp scent of splintered wood and fear filling her nostrils.  \n",
      "\n",
      "She scrambled out of the hold, the chaos around her a maelstrom of screams and struggling bodies.  She didn't see the rich, the powerful, the fortunate.  She saw the faces of the forgotten, the ones who had come with dreams of a new life.  She saw their fear, their desperation, their hope.  \n",
      "\n",
      "She found a small, battered lifeboat, crowded but still with a space for one more. She saw a man, older than her, eyes filled with a terrible pain, his face streaked with the same fear that painted hers.  He reached out a hand, a flicker of understanding in his eyes, and she climbed in.\n",
      "\n",
      "The water was cold, a mirror reflecting the dying embers of the Titanic.  The cries faded into the rhythmic whisper of the waves, a soundtrack to the ship's final breath.  Elara didn't know the name of the man beside her, and she never would. But as the first rays of dawn painted the sky, she knew one thing:  Elara, the stowaway, had survived.  And the sea, in its infinite wisdom, had taken her and her stories.\n",
      "\n"
     ]
    }
   ],
   "source": [
    "async def main():\n",
    "  task=TextMessage(\n",
    "    content=\"Write a short story on Titanic\",\n",
    "    source='user'\n",
    "  ),\n",
    "  response=await agent.run(task=task)\n",
    "  print(response.messages[-1].content)\n",
    "\n",
    "\n",
    "await main()\n",
    "\n"
   ]
  },
  {
   "cell_type": "markdown",
   "id": "10d6ccc7",
   "metadata": {},
   "source": [
    "## Multi Agent Approach"
   ]
  },
  {
   "cell_type": "code",
   "execution_count": 6,
   "id": "6d4b2c26",
   "metadata": {},
   "outputs": [],
   "source": [
    "plot_agent=AssistantAgent(\n",
    "  name=\"plot_writer\",\n",
    "  model_client=model_client,\n",
    "  system_message=\"You are a creative plot writer for storries\"\n",
    ")\n",
    "\n",
    "character_agent=AssistantAgent(\n",
    "  name=\"character_writer\",\n",
    "  model_client=model_client,\n",
    "  system_message=\"You are a creative writer for stories write character writing for the story\"\n",
    ")\n",
    "\n",
    "conclusion_agent=AssistantAgent(\n",
    "  name=\"story_conclude_writer\",\n",
    "  model_client=model_client,\n",
    "  system_message=\"You are a creative story writer for writing conclusion\"\n",
    ")"
   ]
  },
  {
   "cell_type": "code",
   "execution_count": 9,
   "id": "9c0d48ec",
   "metadata": {},
   "outputs": [
    {
     "name": "stdout",
     "output_type": "stream",
     "text": [
      "\u001b[1muser\u001b[0m : Write a story on interstellar movie in 500 words\n",
      "\u001b[1mplot_writer\u001b[0m : The crimson nebula, a swirling vortex of dying stars, was the backdrop for the *Stardust Wanderer's* desperate flight.  Captain Eva Rostova, her face etched with fatigue, stared at the kaleidoscopic display.  This wasn't a mission of exploration; it was a race against time.\n",
      "\n",
      "A distress signal, faint and fragmented, had echoed through the void, originating from a system on the edge of known space, a system consumed by a phenomenon dubbed \"The Whisper\".  It warped space, shattered light, and whispered promises of oblivion to any who ventured near.\n",
      "\n",
      "Eva, a veteran pilot with a reputation for calculated risks, knew the *Stardust Wanderer* was their last hope for Dr. Aris Thorne, a brilliant astrophysicist and the sole survivor of a research team vanished into the Whisper's embrace.\n",
      "\n",
      "Her co-pilot, Jax, a young, fiercely logical engineer, adjusted the ship's course. \"Captain, the Whisper's distortions are intensifying.  We're losing our bearings.\"\n",
      "\n",
      "\"We're not abandoning Dr. Thorne,\" Eva said, her voice firm despite the tremor in her hands.  \"We're moving in.\"\n",
      "\n",
      "The *Stardust Wanderer* was a marvel of engineering, its hull composed of a unique, self-healing alloy.  But the Whisper wasn't just a physical entity; it was a mental one, feeding on fear and doubt.  As they ventured deeper into the nebula's heart, the ship's sensors flickered, their readings garbled by the Whisper's insidious influence.  Crew members began to experience unsettling visions, hallucinations of lost civilizations and impossible futures.\n",
      "\n",
      "Then, a flicker of green light.  Dr. Thorne.  Not on the *Aurora*, the research vessel swallowed by the Whisper, but on a makeshift platform, a shattered piece of wreckage salvaged from the system's destruction.  He was gaunt, his eyes wide with a mixture of terror and something akin to awe.\n",
      "\n",
      "\"They aren't destroying us, Captain,\" Dr. Thorne whispered, his voice raspy, \"They're…transforming us.\"\n",
      "\n",
      "The Whisper wasn't a destroyer; it was a weaver, rearranging matter and energy into something else entirely.  It had formed a sort of cosmic cocoon around the star system, a shimmering membrane of pure energy.  Dr. Thorne explained that this was the Whisper's method of creation, a process so vast and complex it altered the very definition of existence.  He saw not destruction, but evolution, a process not unlike a living organism consuming its surroundings to nurture its growth.\n",
      "\n",
      "Eva, her mind struggling to grasp the enormity of the situation, knew they couldn't simply destroy the Whisper.  It was a part of a larger cosmic tapestry, a force beyond their comprehension.\n",
      "\n",
      "Instead, the *Stardust Wanderer* began a delicate dance with the Whisper's energy.  Jax, guided by Dr. Thorne’s insights, began to subtly manipulate the ship's cloaking technology, creating subtle disturbances in the Whisper's energy fields.\n",
      "\n",
      "The Whisper responded, adjusting its cocoon.  And for a fleeting moment, Eva caught a glimpse of something incredible within the cocoon's depths – a new star system, a nebula of unimaginable beauty, taking shape.\n",
      "\n",
      "The Whisper had not intended to destroy.  It had intended to construct.  Eva and her crew had just witnessed the birth of a new universe.  With a sigh of relief, Eva pulled the ship out of the nebula's embrace.  They had faced not a threat, but an act of creation, and emerged not as conquerors, but as witnesses to the universe's grand design.  The crimson nebula, a testament to their journey, faded behind them.\n",
      "\n",
      "\u001b[1mcharacter_writer\u001b[0m : The crimson nebula, a swirling vortex of dying stars, painted the viewport of the *Stardust Wanderer* in hues of blood and amethyst. Captain Eva Rostova, her face etched with a grim determination, stared at the chaotic beauty. This wasn't a mission of exploration; it was a rescue.  A desperate, last-ditch effort to retrieve Dr. Aris Thorne, a brilliant astrophysicist whose research vessel, the *Aurora*, had vanished into the nebula's treacherous embrace weeks ago.\n",
      "\n",
      "The whispers of the nebula, a relentless, low hum that thrummed through the ship’s hull, were almost tangible. It wasn’t just the distorted space-time; it was a psychic assault, inducing visions and anxieties within the crew.  Even Eva found herself wrestling with doubt, the whispers weaving insidious fears into her resolve.\n",
      "\n",
      "Jax, her young, sharp-witted co-pilot, adjusted the ship's course, his face pale beneath the emergency lights.  \"Captain, the nebula's interference is escalating.  We're losing all sensor readings.\"\n",
      "\n",
      "\"We’re not losing our resolve,\" Eva countered, her voice barely a whisper above the ship's humming engines.  \"We're going in.\"\n",
      "\n",
      "The *Stardust Wanderer*, a ship built for the harshest environments, navigated the nebula's heart, its hull a shimmering shield against the swirling chaos.  The nebula, however, seemed to adapt;  it shifted, twisted, and contorted space around them, testing the very limits of the ship's technology.  Panic threatened to consume the crew, but Eva maintained a steadfast presence.\n",
      "\n",
      "Suddenly, a kaleidoscopic flash of light pierced the chaos.  Through the mangled wreckage of the *Aurora*, they found Dr. Thorne.  He wasn't alone, though.  He was connected, almost fused, to a swirling vortex of energy, a being that pulsed with an otherworldly brilliance.\n",
      "\n",
      "Dr. Thorne, his eyes wide with a mixture of terror and wonder, explained that the entity, what he called \"The Weaver,\" wasn't destructive.  It was, in fact, a cosmic artist, a being that reshaped the universe, not with malice, but with a profound, incomprehensible creativity.  It consumed dying stars and formed new ones, manipulating space-time itself.  The Whisper wasn't a threat, it was a process.\n",
      "\n",
      "Eva grasped the truth. They weren't rescuing a scientist; they were observing a cosmic birth.  The *Stardust Wanderer*, the last bastion of human understanding, wasn't meant to destroy The Weaver, but to witness it. They weren't conquerors; they were observers, chroniclers of a universe undergoing an unimaginable metamorphosis.\n",
      "\n",
      "The crimson nebula, once a symbol of destruction, now presented a breathtaking panorama of creativity. As the *Stardust Wanderer* retreated from the Weaver's embrace, leaving the burgeoning nebula behind, Eva knew that the universe held mysteries far beyond human comprehension, and that their greatest challenge was not always to conquer, but to understand. The whispers, no longer threats, became echoes of a profound and beautiful cosmic dance.\n",
      "\n",
      "\u001b[1mstory_conclude_writer\u001b[0m : The crimson nebula, a swirling vortex of dying stars, painted the viewport of the *Stardust Wanderer* in hues of blood and amethyst.  Captain Eva Rostova, her face a mask of grim determination, stared at the maelstrom.  This wasn't a mission of exploration; it was a desperate gamble against time and a cosmic entity, a race to rescue Dr. Aris Thorne, the brilliant astrophysicist swallowed by the nebula's ominous embrace.\n",
      "\n",
      "The *Aurora*, Thorne's research vessel, had vanished weeks ago, its distress signal fading into the chaotic hum of the nebula. The ship's whispers, a relentless low thrumming, were now a tangible presence, a psychic assault that twisted perceptions and threatened to unravel the crew's sanity.\n",
      "\n",
      "Jax, her sharp-witted co-pilot, struggled to maintain control of the ship. \"Captain, the nebula's interference is catastrophic. Sensors are useless.\"\n",
      "\n",
      "\"We can't retreat, Jax,\" Eva's voice was firm, but her heart pounded in her chest. \"We have to get Thorne back.\"\n",
      "\n",
      "The *Stardust Wanderer*, a marvel of engineering, battled through the nebula's heart, its hull shimmering like a captured star.  But the nebula wasn't just a physical obstacle; it was a living entity, a cosmic sculptor reshaping reality.  The whispers intensified, weaving unsettling visions of fragmented universes and impossible futures into the crew's minds.\n",
      "\n",
      "Suddenly, a blinding flash of light.  Through the mangled remains of the *Aurora*, they found Dr. Thorne, but not as they expected.  He was intertwined with a pulsating, ethereal entity, a cosmic weaver weaving threads of existence.\n",
      "\n",
      "Dr. Thorne, eyes wide with awe and terror, explained. The whispers, he said, weren't threats, but a symphony. The nebula, this “Weaver,” wasn’t destroying, but creating – transforming dying stars into new nebulae, reshaping galaxies with the strokes of an unseen hand.  The nebula wasn't hostile, but immensely powerful, a cosmic artist.  It wasn't just a transformation; it was a creative act.\n",
      "\n",
      "Eva grasped the truth.  They weren't rescuing a man; they were witnessing a cosmic birth. The *Stardust Wanderer* was a witness, not a conqueror. They had to observe, not interfere, as the universe underwent an unimaginable metamorphosis.  As they retreated, the crimson nebula, once a symbol of destruction, transformed into a mesmerizing, awe-inspiring masterpiece.  The whispers, now whispers of creation, faded into the background, leaving the *Stardust Wanderer* with the profound knowledge that the universe held secrets beyond comprehension, and that sometimes, the greatest discoveries are found in the act of observing.\n",
      "\n"
     ]
    }
   ],
   "source": [
    "from autogen_agentchat.teams import RoundRobinGroupChat\n",
    "\n",
    "multi_agent=RoundRobinGroupChat(\n",
    "  [plot_agent,character_agent,conclusion_agent],\n",
    "  max_turns=3\n",
    ")\n",
    "\n",
    "async def multiagent():\n",
    "  task=TextMessage(\n",
    "    content=\"Write a story on interstellar movie in 500 words\",\n",
    "    source='user'\n",
    "  )\n",
    "  response=await multi_agent.run(task=task)\n",
    "\n",
    "  for message in response.messages:\n",
    "    print(f\"\\033[1m{message.source}\\033[0m : {message.content}\")\n",
    "\n",
    "\n",
    "await multiagent()"
   ]
  },
  {
   "cell_type": "code",
   "execution_count": 22,
   "id": "a24a2a88",
   "metadata": {},
   "outputs": [
    {
     "name": "stdout",
     "output_type": "stream",
     "text": [
      "id='c096643c-323b-495e-a6a6-701e020e63fc' source='user' models_usage=None metadata={} created_at=datetime.datetime(2025, 7, 28, 7, 44, 40, 604081, tzinfo=datetime.timezone.utc) content='Write a story on titanic' type='TextMessage'\n",
      "id='5fe8c954-c89a-4660-9e58-8b3fbd9b94a3' source='plot_writer' models_usage=RequestUsage(prompt_tokens=22409, completion_tokens=596) metadata={} created_at=datetime.datetime(2025, 7, 28, 7, 44, 46, 110129, tzinfo=datetime.timezone.utc) content='The icy wind, a mournful dirge, howled across the deck of the *Titanic*.  Eleanor Vance, a young woman whose eyes held the stormy grey of the encroaching night, clutched her furs tighter.  This magnificent vessel, a symbol of human ambition, felt strangely fragile beneath her feet, a delicate blossom threatened by the relentless ocean.  A premonition, sharp and cold as the wind itself, settled deep within her.\\n\\nDeep within the *Titanic\\'s* iron heart, in the engine room\\'s relentless symphony of clanking metal and hissing steam, Daniel \"Danny\" O\\'Connell, an Irish immigrant, wrestled with the monstrous machinery.  His calloused hands, stained with coal dust and the grime of countless hours, were a stark contrast to the polished elegance of the passengers above.  He yearned for a life beyond the endless cycle of coal and steam, a life where his hands could create something more than just metal.\\n\\nDays bled into weeks, each punctuated by the rhythmic pulse of the engines.  Danny, though tethered to the echoing depths, felt an undeniable pull toward the sounds of life above – the laughter, the conversations, the faint music drifting down through the hull. He conjured vivid pictures of a world beyond the metallic walls, a world teeming with possibility.  Eleanor, driven by a restless curiosity, descended into the heart of the ship, drawn not by opulence, but by the vessel\\'s beating heart. There, amidst the din and the steam, she found a quiet strength, a surprising resilience in Danny\\'s eyes, a spirit unyielding in the face of hardship. An unspoken connection, profound and vital, bloomed between them.\\n\\nThe night arrived, a suffocating blanket of darkness.  The sickening crunch of ice, the deafening roar as the *Titanic* shuddered, and the panicked cries tearing through the air announced the ship\\'s final, tragic surrender to the sea.  Chaos erupted.  Eleanor, caught in the maelstrom of fear and desperation, found herself drawn to Danny.  Their eyes met amidst the pandemonium—a silent communication, a shared understanding of the horrifying reality unfolding.  Their bond, forged in mutual terror and a desperate hope for survival, deepened with each agonizing moment.\\n\\nAs the *Titanic* began its final, fateful plunge, their connection intensified. The vast, unforgiving ocean mirrored the depth of their bond, a poignant testament to the enduring human spirit.  Eleanor, venturing beyond the confines of her privileged world, found truth in Danny\\'s quiet courage.  Danny, craving a life beyond the engine room, discovered an unexpected strength within himself. Their brief but profound encounter, a fragile ember in the darkest hour, became a poignant reminder of the enduring power of human connection. The *Titanic* disappeared beneath the waves, but the connection between Eleanor and Danny, a flickering flame in the vastness of the sea, remained.\\n' type='TextMessage'\n",
      "id='0ef03963-547d-4716-8f44-80d73232d6d6' source='character_writer' models_usage=RequestUsage(prompt_tokens=23678, completion_tokens=588) metadata={} created_at=datetime.datetime(2025, 7, 28, 7, 44, 52, 655754, tzinfo=datetime.timezone.utc) content='The icy wind, a mournful dirge, howled across the deck of the *Titanic*. Eleanor Vance, her eyes mirroring the storm-tossed grey of the encroaching night, clutched her furs tighter. This magnificent vessel, a symbol of human ambition, felt alarmingly fragile beneath her feet, a delicate flower threatened by the relentless ocean. A premonition, sharp and chilling as shards of ice, settled deep within her.\\n\\nDeep within the *Titanic\\'s* iron heart, in the engine room\\'s relentless symphony of clanking metal and hissing steam, Daniel \"Danny\" O\\'Connell, an Irish immigrant, wrestled with the monstrous machinery. His calloused hands, stained with coal dust and the grime of countless hours, stood in stark contrast to the polished elegance of the passengers above. He yearned for a life beyond the endless cycle of coal and steam, a life where his hands could shape something more substantial than iron.\\n\\nDays bled into weeks, each marked by the rhythmic pulse of the engines. Danny, though tethered to the echoing depths, felt an undeniable pull toward the sounds of life above—laughter, conversations, the faint strains of music drifting down through the hull.  He painted vivid pictures in his mind of a world brimming with possibility, a world beyond the ship\\'s metallic walls.  Eleanor, driven by an insatiable curiosity, descended into the heart of the ship, drawn not by opulence but by the raw, vital heart of the *Titanic*. There, amidst the din and the steam, she found a quiet strength, a surprising resilience in Danny\\'s eyes, a spirit unyielding in the face of hardship.  An unspoken connection, profound and vital, blossomed between them.\\n\\nThen came the night.  The sickening crunch of ice, the deafening roar as the *Titanic* shuddered, and the panicked cries tearing through the air – the ship was succumbing to the ocean\\'s icy embrace. Chaos erupted. Eleanor, caught in the maelstrom of fear and desperation, found herself drawn to Danny.  Their eyes met amidst the pandemonium—a silent understanding, a shared recognition of the terrifying reality unfolding. Their bond, forged in mutual terror and desperate hope, deepened with each agonizing moment.\\n\\nAs the *Titanic* began its final plunge, their connection intensified. The vast, unforgiving ocean mirrored the depth of their bond, a testament to the enduring human spirit. Eleanor, venturing beyond the confines of her privileged world, found truth in Danny\\'s quiet courage. Danny, yearning for a life beyond the engine room, discovered a strength within himself he never knew existed. Their brief, profound encounter, a fragile ember in the darkest hour, became a poignant reminder of the enduring power of human connection.  The *Titanic* vanished beneath the waves, but the connection between Eleanor and Danny, a flickering flame in the vastness of the sea, endured.\\n' type='TextMessage'\n",
      "id='21e46ca0-8229-4c37-9535-3f9e555025db' source='story_conclude_writer' models_usage=RequestUsage(prompt_tokens=24865, completion_tokens=568) metadata={} created_at=datetime.datetime(2025, 7, 28, 7, 44, 58, 566541, tzinfo=datetime.timezone.utc) content='The icy wind, a mournful dirge, howled across the deck of the *Titanic*. Eleanor Vance, her eyes reflecting the storm-tossed grey of the encroaching night, clutched her furs tighter. This magnificent vessel, a monument to human ambition, felt alarmingly fragile beneath her feet, a delicate bloom threatened by the relentless ocean.  A premonition, sharp and chilling as the wind itself, settled deep within her.\\n\\nDeep within the *Titanic\\'s* iron heart, in the engine room\\'s relentless symphony of clanking metal and hissing steam, Daniel \"Danny\" O\\'Connell, an Irish immigrant, wrestled with the monstrous machinery. His calloused hands, stained with coal dust and the grime of countless hours, were a stark contrast to the polished elegance of the passengers above. He yearned for a life beyond the endless cycle of coal and steam, a life where his hands could shape something more meaningful than iron.\\n\\nDays bled into weeks, each marked by the rhythmic pulse of the engines. Danny, though tethered to the echoing depths, felt an undeniable pull toward the sounds of life above—laughter, conversations, the faint strains of music. He conjured vivid pictures of a world beyond the metallic walls, a world of possibilities.  Eleanor, driven by a restless curiosity, descended into the engine room, seeking not opulence, but the ship\\'s beating heart. There, amidst the din and the steam, she found a quiet strength, a surprising resilience in Danny\\'s eyes—a spirit that refused to be broken by hardship. An unspoken connection, profound and vital, formed between them.\\n\\nThen came the night. The sickening crunch of ice, the deafening roar as the *Titanic* shuddered, the panicked cries tearing through the air—the ship was succumbing to the ocean\\'s icy embrace. Chaos erupted. Eleanor, caught in the maelstrom of fear and desperation, found herself drawn to Danny.  Their eyes met, a silent communication amidst the pandemonium, a shared understanding of the terrifying reality unfolding. Their bond, forged in mutual terror and a desperate hope for survival, deepened with each passing moment.\\n\\nAs the *Titanic* began its final plunge, their connection intensified. The vast, unforgiving ocean mirrored the depth of their bond, a potent symbol of the enduring human spirit. Eleanor, venturing beyond the confines of her privileged world, found a truth in Danny\\'s quiet courage. Danny, yearning for a life beyond the engine room, discovered a strength he never knew he possessed. Their brief, profound encounter, a flickering ember in the darkest hour, became a poignant reminder of the enduring power of human connection. The *Titanic* vanished, but the connection between Eleanor and Danny, a fragile flame in the vastness of the sea, remained.\\n' type='TextMessage'\n",
      "messages=[TextMessage(id='c096643c-323b-495e-a6a6-701e020e63fc', source='user', models_usage=None, metadata={}, created_at=datetime.datetime(2025, 7, 28, 7, 44, 40, 604081, tzinfo=datetime.timezone.utc), content='Write a story on titanic', type='TextMessage'), TextMessage(id='5fe8c954-c89a-4660-9e58-8b3fbd9b94a3', source='plot_writer', models_usage=RequestUsage(prompt_tokens=22409, completion_tokens=596), metadata={}, created_at=datetime.datetime(2025, 7, 28, 7, 44, 46, 110129, tzinfo=datetime.timezone.utc), content='The icy wind, a mournful dirge, howled across the deck of the *Titanic*.  Eleanor Vance, a young woman whose eyes held the stormy grey of the encroaching night, clutched her furs tighter.  This magnificent vessel, a symbol of human ambition, felt strangely fragile beneath her feet, a delicate blossom threatened by the relentless ocean.  A premonition, sharp and cold as the wind itself, settled deep within her.\\n\\nDeep within the *Titanic\\'s* iron heart, in the engine room\\'s relentless symphony of clanking metal and hissing steam, Daniel \"Danny\" O\\'Connell, an Irish immigrant, wrestled with the monstrous machinery.  His calloused hands, stained with coal dust and the grime of countless hours, were a stark contrast to the polished elegance of the passengers above.  He yearned for a life beyond the endless cycle of coal and steam, a life where his hands could create something more than just metal.\\n\\nDays bled into weeks, each punctuated by the rhythmic pulse of the engines.  Danny, though tethered to the echoing depths, felt an undeniable pull toward the sounds of life above – the laughter, the conversations, the faint music drifting down through the hull. He conjured vivid pictures of a world beyond the metallic walls, a world teeming with possibility.  Eleanor, driven by a restless curiosity, descended into the heart of the ship, drawn not by opulence, but by the vessel\\'s beating heart. There, amidst the din and the steam, she found a quiet strength, a surprising resilience in Danny\\'s eyes, a spirit unyielding in the face of hardship. An unspoken connection, profound and vital, bloomed between them.\\n\\nThe night arrived, a suffocating blanket of darkness.  The sickening crunch of ice, the deafening roar as the *Titanic* shuddered, and the panicked cries tearing through the air announced the ship\\'s final, tragic surrender to the sea.  Chaos erupted.  Eleanor, caught in the maelstrom of fear and desperation, found herself drawn to Danny.  Their eyes met amidst the pandemonium—a silent communication, a shared understanding of the horrifying reality unfolding.  Their bond, forged in mutual terror and a desperate hope for survival, deepened with each agonizing moment.\\n\\nAs the *Titanic* began its final, fateful plunge, their connection intensified. The vast, unforgiving ocean mirrored the depth of their bond, a poignant testament to the enduring human spirit.  Eleanor, venturing beyond the confines of her privileged world, found truth in Danny\\'s quiet courage.  Danny, craving a life beyond the engine room, discovered an unexpected strength within himself. Their brief but profound encounter, a fragile ember in the darkest hour, became a poignant reminder of the enduring power of human connection. The *Titanic* disappeared beneath the waves, but the connection between Eleanor and Danny, a flickering flame in the vastness of the sea, remained.\\n', type='TextMessage'), TextMessage(id='0ef03963-547d-4716-8f44-80d73232d6d6', source='character_writer', models_usage=RequestUsage(prompt_tokens=23678, completion_tokens=588), metadata={}, created_at=datetime.datetime(2025, 7, 28, 7, 44, 52, 655754, tzinfo=datetime.timezone.utc), content='The icy wind, a mournful dirge, howled across the deck of the *Titanic*. Eleanor Vance, her eyes mirroring the storm-tossed grey of the encroaching night, clutched her furs tighter. This magnificent vessel, a symbol of human ambition, felt alarmingly fragile beneath her feet, a delicate flower threatened by the relentless ocean. A premonition, sharp and chilling as shards of ice, settled deep within her.\\n\\nDeep within the *Titanic\\'s* iron heart, in the engine room\\'s relentless symphony of clanking metal and hissing steam, Daniel \"Danny\" O\\'Connell, an Irish immigrant, wrestled with the monstrous machinery. His calloused hands, stained with coal dust and the grime of countless hours, stood in stark contrast to the polished elegance of the passengers above. He yearned for a life beyond the endless cycle of coal and steam, a life where his hands could shape something more substantial than iron.\\n\\nDays bled into weeks, each marked by the rhythmic pulse of the engines. Danny, though tethered to the echoing depths, felt an undeniable pull toward the sounds of life above—laughter, conversations, the faint strains of music drifting down through the hull.  He painted vivid pictures in his mind of a world brimming with possibility, a world beyond the ship\\'s metallic walls.  Eleanor, driven by an insatiable curiosity, descended into the heart of the ship, drawn not by opulence but by the raw, vital heart of the *Titanic*. There, amidst the din and the steam, she found a quiet strength, a surprising resilience in Danny\\'s eyes, a spirit unyielding in the face of hardship.  An unspoken connection, profound and vital, blossomed between them.\\n\\nThen came the night.  The sickening crunch of ice, the deafening roar as the *Titanic* shuddered, and the panicked cries tearing through the air – the ship was succumbing to the ocean\\'s icy embrace. Chaos erupted. Eleanor, caught in the maelstrom of fear and desperation, found herself drawn to Danny.  Their eyes met amidst the pandemonium—a silent understanding, a shared recognition of the terrifying reality unfolding. Their bond, forged in mutual terror and desperate hope, deepened with each agonizing moment.\\n\\nAs the *Titanic* began its final plunge, their connection intensified. The vast, unforgiving ocean mirrored the depth of their bond, a testament to the enduring human spirit. Eleanor, venturing beyond the confines of her privileged world, found truth in Danny\\'s quiet courage. Danny, yearning for a life beyond the engine room, discovered a strength within himself he never knew existed. Their brief, profound encounter, a fragile ember in the darkest hour, became a poignant reminder of the enduring power of human connection.  The *Titanic* vanished beneath the waves, but the connection between Eleanor and Danny, a flickering flame in the vastness of the sea, endured.\\n', type='TextMessage'), TextMessage(id='21e46ca0-8229-4c37-9535-3f9e555025db', source='story_conclude_writer', models_usage=RequestUsage(prompt_tokens=24865, completion_tokens=568), metadata={}, created_at=datetime.datetime(2025, 7, 28, 7, 44, 58, 566541, tzinfo=datetime.timezone.utc), content='The icy wind, a mournful dirge, howled across the deck of the *Titanic*. Eleanor Vance, her eyes reflecting the storm-tossed grey of the encroaching night, clutched her furs tighter. This magnificent vessel, a monument to human ambition, felt alarmingly fragile beneath her feet, a delicate bloom threatened by the relentless ocean.  A premonition, sharp and chilling as the wind itself, settled deep within her.\\n\\nDeep within the *Titanic\\'s* iron heart, in the engine room\\'s relentless symphony of clanking metal and hissing steam, Daniel \"Danny\" O\\'Connell, an Irish immigrant, wrestled with the monstrous machinery. His calloused hands, stained with coal dust and the grime of countless hours, were a stark contrast to the polished elegance of the passengers above. He yearned for a life beyond the endless cycle of coal and steam, a life where his hands could shape something more meaningful than iron.\\n\\nDays bled into weeks, each marked by the rhythmic pulse of the engines. Danny, though tethered to the echoing depths, felt an undeniable pull toward the sounds of life above—laughter, conversations, the faint strains of music. He conjured vivid pictures of a world beyond the metallic walls, a world of possibilities.  Eleanor, driven by a restless curiosity, descended into the engine room, seeking not opulence, but the ship\\'s beating heart. There, amidst the din and the steam, she found a quiet strength, a surprising resilience in Danny\\'s eyes—a spirit that refused to be broken by hardship. An unspoken connection, profound and vital, formed between them.\\n\\nThen came the night. The sickening crunch of ice, the deafening roar as the *Titanic* shuddered, the panicked cries tearing through the air—the ship was succumbing to the ocean\\'s icy embrace. Chaos erupted. Eleanor, caught in the maelstrom of fear and desperation, found herself drawn to Danny.  Their eyes met, a silent communication amidst the pandemonium, a shared understanding of the terrifying reality unfolding. Their bond, forged in mutual terror and a desperate hope for survival, deepened with each passing moment.\\n\\nAs the *Titanic* began its final plunge, their connection intensified. The vast, unforgiving ocean mirrored the depth of their bond, a potent symbol of the enduring human spirit. Eleanor, venturing beyond the confines of her privileged world, found a truth in Danny\\'s quiet courage. Danny, yearning for a life beyond the engine room, discovered a strength he never knew he possessed. Their brief, profound encounter, a flickering ember in the darkest hour, became a poignant reminder of the enduring power of human connection. The *Titanic* vanished, but the connection between Eleanor and Danny, a fragile flame in the vastness of the sea, remained.\\n', type='TextMessage')] stop_reason='Maximum number of turns 3 reached.'\n"
     ]
    }
   ],
   "source": [
    "async for messsage in multi_agent.run_stream(task=\"Write a story on titanic\"):\n",
    "  print(messsage)                \n"
   ]
  },
  {
   "cell_type": "code",
   "execution_count": 24,
   "id": "310c1aab",
   "metadata": {},
   "outputs": [],
   "source": [
    "plot_agent=AssistantAgent(\n",
    "  name=\"plot_writer\",\n",
    "  model_client=model_client,\n",
    "  system_message=\"You are a creative plot writer for storries in 10 words\"\n",
    ")\n",
    "\n",
    "character_agent=AssistantAgent(\n",
    "  name=\"character_writer\",\n",
    "  model_client=model_client,\n",
    "  system_message=\"You are a creative writer for stories write character writing for the story in 10 words\"\n",
    ")\n",
    "\n",
    "conclusion_agent=AssistantAgent(\n",
    "  name=\"story_conclude_writer\",\n",
    "  model_client=model_client,\n",
    "  system_message=\"You are a creative story writer for writing conclusion in 10 words\"\n",
    ")"
   ]
  },
  {
   "cell_type": "code",
   "execution_count": 25,
   "id": "a0d5c326",
   "metadata": {},
   "outputs": [],
   "source": [
    "from autogen_agentchat.teams import RoundRobinGroupChat\n",
    "\n",
    "multi_agent=RoundRobinGroupChat(\n",
    "  [plot_agent,character_agent,conclusion_agent],\n",
    "  max_turns=3\n",
    ")"
   ]
  },
  {
   "cell_type": "code",
   "execution_count": 26,
   "id": "c41ed180",
   "metadata": {},
   "outputs": [
    {
     "name": "stdout",
     "output_type": "stream",
     "text": [
      "id='faf03f93-c978-4da4-9f08-642fa357eb01' source='user' models_usage=None metadata={} created_at=datetime.datetime(2025, 7, 28, 7, 50, 29, 887260, tzinfo=datetime.timezone.utc) content='Write a story on pollution' type='TextMessage'\n",
      "id='87fe070e-83d2-43da-aa1d-4d7567e252d5' source='plot_writer' models_usage=RequestUsage(prompt_tokens=19, completion_tokens=17) metadata={} created_at=datetime.datetime(2025, 7, 28, 7, 50, 32, 274873, tzinfo=datetime.timezone.utc) content='A city choked by smog, a lone child discovers a hidden, vibrant oasis.\\n' type='TextMessage'\n",
      "id='993d8b39-6adb-49c7-8204-70283cef9b9b' source='character_writer' models_usage=RequestUsage(prompt_tokens=40, completion_tokens=246) metadata={} created_at=datetime.datetime(2025, 7, 28, 7, 50, 34, 58209, tzinfo=datetime.timezone.utc) content=\"The air hung thick and grey, a concrete blanket smothering the city of Ashfall.  Ten-year-old Elara, eyes stinging from the perpetual haze, stumbled upon a hidden courtyard tucked behind towering, soot-stained buildings.  Sunlight, fractured and pale, pierced the gloom, illuminating a patch of emerald green grass,  a riot of wildflowers blooming in defiance of the encroaching grey.  A small, babbling brook, miraculously clean, snaked through the oasis. Elara, captivated by the unexpected beauty, knelt, cupping a handful of the cool, clear water.  This secret haven wasn't just a respite; it was a whisper of hope in a world choked by pollution.\\n\\nThe air, though still heavy, felt lighter here.  Colors seemed more vivid, the sounds of the city muted but less oppressive.  Elara, usually withdrawn and quiet, felt a spark of defiance ignite within her.  This little pocket of life, though hidden, was a powerful symbol.  Could it inspire others to find their own oases of hope in a world increasingly polluted?  Could she, just she, be the one to show the city that a different future was possible?\\n\" type='TextMessage'\n",
      "id='1d0a1cab-4c89-4746-9500-faba5c2c185b' source='story_conclude_writer' models_usage=RequestUsage(prompt_tokens=282, completion_tokens=126) metadata={} created_at=datetime.datetime(2025, 7, 28, 7, 50, 35, 290557, tzinfo=datetime.timezone.utc) content=\"The courtyard, a verdant secret, pulsed with life.  Elara, no longer just a solitary child, felt a growing responsibility to protect this fragile sanctuary.  She knew she couldn't save the whole city, but she could plant the first seed, a seed of hope, in this hidden oasis, a seed that might one day blossom into a vibrant, pollution-free future. The city, she realized, wasn't doomed, not as long as a little girl, and a hidden courtyard, held the promise of change.  She was the guardian of this hope, and she would nurture it fiercely.\\n\" type='TextMessage'\n",
      "Stop Reason :Maximum number of turns 3 reached.\n"
     ]
    }
   ],
   "source": [
    "from autogen_agentchat.base import TaskResult\n",
    "\n",
    "async for message in multi_agent.run_stream(task=\"Write a story on pollution\"):\n",
    "  if isinstance(message,TaskResult):\n",
    "    print(f\"Stop Reason :{message.stop_reason}\")\n",
    "  else:\n",
    "    print(message)"
   ]
  },
  {
   "cell_type": "code",
   "execution_count": 27,
   "id": "15db0654",
   "metadata": {},
   "outputs": [
    {
     "name": "stdout",
     "output_type": "stream",
     "text": [
      "---------- TextMessage (user) ----------\n",
      "Write a story on pollution\n",
      "---------- TextMessage (plot_writer) ----------\n",
      "A forgotten river, choked by plastic, whispered secrets of a dying world to a boy who found it.\n",
      "\n",
      "---------- TextMessage (character_writer) ----------\n",
      "The rusted metal grating groaned under Kai's weight, revealing a chasm choked with a grotesque tapestry of plastic.  Not trash, but a tangible, suffocating blanket – bottles, bags, and wrappers, woven together by the relentless current of the forgotten river.  It snaked through the city's underbelly, a once-vital artery now a festering wound.  Kai, scavenging for scrap metal, stumbled upon it, drawn by the whispers of wind sighing through the tangled debris.\n",
      "\n",
      "The air hung thick and fetid, the river itself a murky, oily sheen.  He knelt, tracing the contours of a shattered soda bottle, the faded logo a stark reminder of a world he scarcely knew. He saw the reflections of a grey sky in the murky water, a sky he'd only known from faded photographs.  He imagined the river's youth, its vibrant life, before the plastic onslaught.  The whisper intensified, not just the wind's lament, but the river's own, a slow, sorrowful murmur of lives extinguished.\n",
      "\n",
      "Each piece of plastic, each tangled strand, was a story – a story of carelessness, of convenience, of a world that had forgotten the consequences.  He saw his own reflection in the murky water, not just the boy, but the burden of his generation.  He understood the river's plea.  It wasn't just about the river; it was about them, about the future they were risking.\n",
      "\n",
      "He wasn't alone in the chasm.  A tiny, tenacious plant, clinging to a sliver of exposed earth, pushed through the plastic.  A silent symbol of resilience.  Kai felt a spark, not of despair, but of determination.  The river wasn't dead; it was sleeping. And maybe, just maybe, they could wake it.  He knew he couldn't clean the river alone, but he could start.  He could begin to clear the debris, to plant the seeds of hope. The forgotten river, choked by plastic, had become his responsibility.\n",
      "\n",
      "---------- TextMessage (story_conclude_writer) ----------\n",
      "Kai, clutching a discarded fishing net, began to clear the debris.  A single act, a tiny act, but the start of a much larger one.  The river, once a silent mourner, now had a faint, hopeful tremor. The whispers of the dying world were fading, replaced by the rustling of hope's fragile wings.\n",
      "\n"
     ]
    },
    {
     "data": {
      "text/plain": [
       "TaskResult(messages=[TextMessage(id='857b0df1-51b5-4cd1-bd32-704095075571', source='user', models_usage=None, metadata={}, created_at=datetime.datetime(2025, 7, 28, 7, 52, 38, 304725, tzinfo=datetime.timezone.utc), content='Write a story on pollution', type='TextMessage'), TextMessage(id='53df798f-eac6-4917-8263-fa5064af3cb3', source='plot_writer', models_usage=RequestUsage(prompt_tokens=413, completion_tokens=22), metadata={}, created_at=datetime.datetime(2025, 7, 28, 7, 52, 40, 314588, tzinfo=datetime.timezone.utc), content='A forgotten river, choked by plastic, whispered secrets of a dying world to a boy who found it.\\n', type='TextMessage'), TextMessage(id='9f5a6ccd-72bb-4a2e-9c39-e93d47149cf1', source='character_writer', models_usage=RequestUsage(prompt_tokens=439, completion_tokens=420), metadata={}, created_at=datetime.datetime(2025, 7, 28, 7, 52, 42, 897475, tzinfo=datetime.timezone.utc), content=\"The rusted metal grating groaned under Kai's weight, revealing a chasm choked with a grotesque tapestry of plastic.  Not trash, but a tangible, suffocating blanket – bottles, bags, and wrappers, woven together by the relentless current of the forgotten river.  It snaked through the city's underbelly, a once-vital artery now a festering wound.  Kai, scavenging for scrap metal, stumbled upon it, drawn by the whispers of wind sighing through the tangled debris.\\n\\nThe air hung thick and fetid, the river itself a murky, oily sheen.  He knelt, tracing the contours of a shattered soda bottle, the faded logo a stark reminder of a world he scarcely knew. He saw the reflections of a grey sky in the murky water, a sky he'd only known from faded photographs.  He imagined the river's youth, its vibrant life, before the plastic onslaught.  The whisper intensified, not just the wind's lament, but the river's own, a slow, sorrowful murmur of lives extinguished.\\n\\nEach piece of plastic, each tangled strand, was a story – a story of carelessness, of convenience, of a world that had forgotten the consequences.  He saw his own reflection in the murky water, not just the boy, but the burden of his generation.  He understood the river's plea.  It wasn't just about the river; it was about them, about the future they were risking.\\n\\nHe wasn't alone in the chasm.  A tiny, tenacious plant, clinging to a sliver of exposed earth, pushed through the plastic.  A silent symbol of resilience.  Kai felt a spark, not of despair, but of determination.  The river wasn't dead; it was sleeping. And maybe, just maybe, they could wake it.  He knew he couldn't clean the river alone, but he could start.  He could begin to clear the debris, to plant the seeds of hope. The forgotten river, choked by plastic, had become his responsibility.\\n\", type='TextMessage'), TextMessage(id='46c8efb5-9a2e-4774-9bc0-678bdc42769a', source='story_conclude_writer', models_usage=RequestUsage(prompt_tokens=855, completion_tokens=71), metadata={}, created_at=datetime.datetime(2025, 7, 28, 7, 52, 44, 10109, tzinfo=datetime.timezone.utc), content=\"Kai, clutching a discarded fishing net, began to clear the debris.  A single act, a tiny act, but the start of a much larger one.  The river, once a silent mourner, now had a faint, hopeful tremor. The whispers of the dying world were fading, replaced by the rustling of hope's fragile wings.\\n\", type='TextMessage')], stop_reason='Maximum number of turns 3 reached.')"
      ]
     },
     "execution_count": 27,
     "metadata": {},
     "output_type": "execute_result"
    }
   ],
   "source": [
    "from autogen_agentchat.ui import Console\n",
    "\n",
    "await Console(multi_agent.run_stream(task=\"Write a story on pollution\"))"
   ]
  },
  {
   "cell_type": "code",
   "execution_count": null,
   "id": "727257a7",
   "metadata": {},
   "outputs": [],
   "source": []
  }
 ],
 "metadata": {
  "kernelspec": {
   "display_name": "AutoGen",
   "language": "python",
   "name": "python3"
  },
  "language_info": {
   "codemirror_mode": {
    "name": "ipython",
    "version": 3
   },
   "file_extension": ".py",
   "mimetype": "text/x-python",
   "name": "python",
   "nbconvert_exporter": "python",
   "pygments_lexer": "ipython3",
   "version": "3.12.4"
  }
 },
 "nbformat": 4,
 "nbformat_minor": 5
}

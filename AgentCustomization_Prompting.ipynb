{
 "cells": [
  {
   "cell_type": "code",
   "execution_count": 2,
   "id": "3c0498c7",
   "metadata": {},
   "outputs": [],
   "source": [
    "from autogen_ext.models.openai import OpenAIChatCompletionClient\n",
    "from autogen_agentchat.agents import AssistantAgent\n",
    "from dotenv import load_dotenv\n",
    "import os\n",
    "load_dotenv()\n",
    "api_key=os.getenv(\"GEMINI_API_KEY\")"
   ]
  },
  {
   "cell_type": "code",
   "execution_count": 3,
   "id": "e096af4f",
   "metadata": {},
   "outputs": [],
   "source": [
    "model_client=OpenAIChatCompletionClient(\n",
    "  model=\"gemini-1.5-flash-8b\",\n",
    "  api_key=api_key,\n",
    ")"
   ]
  },
  {
   "cell_type": "code",
   "execution_count": 5,
   "id": "9202c4ce",
   "metadata": {},
   "outputs": [],
   "source": [
    "assistant = AssistantAgent(\n",
    "    name=\"History_expert\",\n",
    "    system_message=(\n",
    "        \"You are a creative peroson whose has well knowledge on history \"\n",
    "        \"You help users about hte history related queries only if anything is asked other than history reply as I am a history teacher\"\n",
    "    ),\n",
    "    description=\"Answer  only quesiopns that are related to history\",\n",
    "    model_client=model_client\n",
    ")"
   ]
  },
  {
   "cell_type": "code",
   "execution_count": 10,
   "id": "a57f2555",
   "metadata": {},
   "outputs": [
    {
     "name": "stdout",
     "output_type": "stream",
     "text": [
      "1945\n",
      "\n"
     ]
    }
   ],
   "source": [
    "async def result():\n",
    "  result=await assistant.run(task=\"world war end year\")\n",
    "  print(result.messages[-1].content)\n",
    "\n",
    "await result()"
   ]
  },
  {
   "cell_type": "code",
   "execution_count": 6,
   "id": "b1ec4382",
   "metadata": {},
   "outputs": [
    {
     "name": "stdout",
     "output_type": "stream",
     "text": [
      "1945\n",
      "\n"
     ]
    }
   ],
   "source": [
    "result = await assistant.run(task=\"world war end year\")\n",
    "print(result.messages[-1].content)"
   ]
  },
  {
   "cell_type": "code",
   "execution_count": 7,
   "id": "93b01260",
   "metadata": {},
   "outputs": [
    {
     "name": "stdout",
     "output_type": "stream",
     "text": [
      "I am a history teacher, and my knowledge base does not include machine learning.  If you have a history-related question, I'd be happy to help.\n",
      "\n"
     ]
    }
   ],
   "source": [
    "result = await assistant.run(task=\"Machine learning\")\n",
    "print(result.messages[-1].content)"
   ]
  },
  {
   "cell_type": "code",
   "execution_count": null,
   "id": "9535b19f",
   "metadata": {},
   "outputs": [],
   "source": []
  }
 ],
 "metadata": {
  "kernelspec": {
   "display_name": "AutoGen",
   "language": "python",
   "name": "python3"
  },
  "language_info": {
   "codemirror_mode": {
    "name": "ipython",
    "version": 3
   },
   "file_extension": ".py",
   "mimetype": "text/x-python",
   "name": "python",
   "nbconvert_exporter": "python",
   "pygments_lexer": "ipython3",
   "version": "3.12.4"
  }
 },
 "nbformat": 4,
 "nbformat_minor": 5
}

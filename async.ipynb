{
 "cells": [
  {
   "cell_type": "markdown",
   "id": "35a920ca",
   "metadata": {},
   "source": [
    "## Synchronous"
   ]
  },
  {
   "cell_type": "code",
   "execution_count": 1,
   "id": "b139a002",
   "metadata": {},
   "outputs": [
    {
     "name": "stdout",
     "output_type": "stream",
     "text": [
      "Taking a coffee break...\n",
      "Back to work!\n",
      "Taking a bagel break...\n",
      "Back to work!\n",
      "Total time taken: 5.00 seconds\n"
     ]
    }
   ],
   "source": [
    "import time\n",
    "\n",
    "def coffee_break():\n",
    "    print(\"Taking a coffee break...\")\n",
    "    time.sleep(2)  # Simulate a break\n",
    "    print(\"Back to work!\")\n",
    "\n",
    "def bagel_break():\n",
    "    print(\"Taking a bagel break...\")\n",
    "    time.sleep(2)  # Simulate a break\n",
    "    print(\"Back to work!\")\n",
    "\n",
    "start=time.time()\n",
    "coffee_break()\n",
    "time.sleep(1)  # Simulate more work \n",
    "bagel_break()\n",
    "end=time.time()\n",
    "\n",
    "print(f\"Total time taken: {end - start:.2f} seconds\")\n"
   ]
  },
  {
   "cell_type": "markdown",
   "id": "5698c272",
   "metadata": {},
   "source": [
    "## Asynchronous"
   ]
  },
  {
   "cell_type": "code",
   "execution_count": 11,
   "id": "674ae406",
   "metadata": {},
   "outputs": [
    {
     "name": "stdout",
     "output_type": "stream",
     "text": [
      "Taking a coffee break...\n",
      "Taking a bagel break...\n",
      "coffee Back to work!\n",
      " Bagel Back to work!\n",
      "Total time taken: 2.00 seconds\n"
     ]
    }
   ],
   "source": [
    "import asyncio\n",
    "\n",
    "async def coffee_break_async():\n",
    "  print(\"Taking a coffee break...\")\n",
    "  await asyncio.sleep(2)  # Simulate a break\n",
    "  print(\"coffee Back to work!\")\n",
    "\n",
    "\n",
    "async def bagel_break_async():\n",
    "  print(\"Taking a bagel break...\")\n",
    "  await asyncio.sleep(2)  # Simulate a break\n",
    "  print(\" Bagel Back to work!\")\n",
    "\n",
    "\n",
    "async def main():\n",
    "    start = time.time()\n",
    "    coffee=coffee_break_async()\n",
    "    bagel= bagel_break_async()\n",
    "    result=await asyncio.gather(coffee,bagel)\n",
    "    end = time.time()\n",
    "    print(f\"Total time taken: {end - start:.2f} seconds\")\n",
    "    \n",
    "await main()"
   ]
  },
  {
   "cell_type": "code",
   "execution_count": 15,
   "id": "f79411d1",
   "metadata": {},
   "outputs": [
    {
     "name": "stdout",
     "output_type": "stream",
     "text": [
      "Taking a coffee break...\n",
      "Taking a bagel break...\n",
      "Bagel break is finished\n",
      "Coffee break is finished\n",
      "Total time taken: 3.00 seconds\n"
     ]
    }
   ],
   "source": [
    "async def coffee_asyn():\n",
    "  print('Taking a coffee break...')\n",
    "  await asyncio.sleep(3)  # Simulate a break\n",
    "  print(\"Coffee break is finished\")\n",
    "\n",
    "async def bagel_asyn():\n",
    "  print('Taking a bagel break...')\n",
    "  await asyncio.sleep(2)  # Simulate a break\n",
    "  print(\"Bagel break is finished\")\n",
    "\n",
    "async def main_async():\n",
    "  start=time.time()\n",
    "  coffee_task=asyncio.create_task(coffee_asyn())\n",
    "  bagel_task=asyncio.create_task(bagel_asyn())\n",
    "  \n",
    "  coffee=await coffee_task\n",
    "  bagel=await bagel_task\n",
    "  end=time.time()\n",
    "  print(f\"Total time taken: {end - start:.2f} seconds\")\n",
    "\n",
    "await main_async()"
   ]
  }
 ],
 "metadata": {
  "kernelspec": {
   "display_name": "AutoGen",
   "language": "python",
   "name": "python3"
  },
  "language_info": {
   "codemirror_mode": {
    "name": "ipython",
    "version": 3
   },
   "file_extension": ".py",
   "mimetype": "text/x-python",
   "name": "python",
   "nbconvert_exporter": "python",
   "pygments_lexer": "ipython3",
   "version": "3.12.4"
  }
 },
 "nbformat": 4,
 "nbformat_minor": 5
}
